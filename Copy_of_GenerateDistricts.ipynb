{
  "cells": [
    {
      "cell_type": "markdown",
      "metadata": {
        "id": "view-in-github",
        "colab_type": "text"
      },
      "source": [
        "<a href=\"https://colab.research.google.com/github/Qasimrizvi1245/CSProjects/blob/main/Copy_of_GenerateDistricts.ipynb\" target=\"_parent\"><img src=\"https://colab.research.google.com/assets/colab-badge.svg\" alt=\"Open In Colab\"/></a>"
      ]
    },
    {
      "cell_type": "markdown",
      "id": "thorough-astrology",
      "metadata": {
        "id": "thorough-astrology"
      },
      "source": [
        "-----\n",
        "This Notebook contains the implementation of district creation\n",
        "-----\n",
        "-----"
      ]
    },
    {
      "cell_type": "code",
      "execution_count": null,
      "id": "dedicated-force",
      "metadata": {
        "id": "dedicated-force",
        "outputId": "b552d9af-6c16-4ff3-a5ba-66fab87a4c1a"
      },
      "outputs": [
        {
          "name": "stdout",
          "output_type": "stream",
          "text": [
            "Requirement already satisfied: pandas in c:\\users\\laser\\appdata\\local\\packages\\pythonsoftwarefoundation.python.3.9_qbz5n2kfra8p0\\localcache\\local-packages\\python39\\site-packages (1.5.0)\n",
            "Requirement already satisfied: pytz>=2020.1 in c:\\users\\laser\\appdata\\local\\packages\\pythonsoftwarefoundation.python.3.9_qbz5n2kfra8p0\\localcache\\local-packages\\python39\\site-packages (from pandas) (2022.4)\n",
            "Requirement already satisfied: python-dateutil>=2.8.1 in c:\\users\\laser\\appdata\\local\\packages\\pythonsoftwarefoundation.python.3.9_qbz5n2kfra8p0\\localcache\\local-packages\\python39\\site-packages (from pandas) (2.8.2)\n",
            "Requirement already satisfied: numpy>=1.20.3 in c:\\users\\laser\\appdata\\local\\packages\\pythonsoftwarefoundation.python.3.9_qbz5n2kfra8p0\\localcache\\local-packages\\python39\\site-packages (from pandas) (1.21.3)\n",
            "Requirement already satisfied: six>=1.5 in c:\\users\\laser\\appdata\\local\\packages\\pythonsoftwarefoundation.python.3.9_qbz5n2kfra8p0\\localcache\\local-packages\\python39\\site-packages (from python-dateutil>=2.8.1->pandas) (1.16.0)\n",
            "Note: you may need to restart the kernel to use updated packages.\n"
          ]
        },
        {
          "name": "stderr",
          "output_type": "stream",
          "text": [
            "WARNING: You are using pip version 22.0.4; however, version 22.3.1 is available.\n",
            "You should consider upgrading via the 'C:\\Users\\laser\\AppData\\Local\\Microsoft\\WindowsApps\\PythonSoftwareFoundation.Python.3.9_qbz5n2kfra8p0\\python.exe -m pip install --upgrade pip' command.\n"
          ]
        },
        {
          "name": "stdout",
          "output_type": "stream",
          "text": [
            "Requirement already satisfied: geojson in c:\\users\\laser\\appdata\\local\\packages\\pythonsoftwarefoundation.python.3.9_qbz5n2kfra8p0\\localcache\\local-packages\\python39\\site-packages (2.5.0)\n",
            "Note: you may need to restart the kernel to use updated packages.\n"
          ]
        },
        {
          "name": "stderr",
          "output_type": "stream",
          "text": [
            "WARNING: You are using pip version 22.0.4; however, version 22.3.1 is available.\n",
            "You should consider upgrading via the 'C:\\Users\\laser\\AppData\\Local\\Microsoft\\WindowsApps\\PythonSoftwareFoundation.Python.3.9_qbz5n2kfra8p0\\python.exe -m pip install --upgrade pip' command.\n"
          ]
        },
        {
          "name": "stdout",
          "output_type": "stream",
          "text": [
            "Requirement already satisfied: shapely in c:\\users\\laser\\appdata\\local\\packages\\pythonsoftwarefoundation.python.3.9_qbz5n2kfra8p0\\localcache\\local-packages\\python39\\site-packages (1.8.5.post1)\n",
            "Note: you may need to restart the kernel to use updated packages.\n"
          ]
        },
        {
          "name": "stderr",
          "output_type": "stream",
          "text": [
            "WARNING: You are using pip version 22.0.4; however, version 22.3.1 is available.\n",
            "You should consider upgrading via the 'C:\\Users\\laser\\AppData\\Local\\Microsoft\\WindowsApps\\PythonSoftwareFoundation.Python.3.9_qbz5n2kfra8p0\\python.exe -m pip install --upgrade pip' command.\n"
          ]
        },
        {
          "name": "stdout",
          "output_type": "stream",
          "text": [
            "Requirement already satisfied: PyShp in c:\\users\\laser\\appdata\\local\\packages\\pythonsoftwarefoundation.python.3.9_qbz5n2kfra8p0\\localcache\\local-packages\\python39\\site-packages (2.3.1)\n",
            "Note: you may need to restart the kernel to use updated packages.\n"
          ]
        },
        {
          "name": "stderr",
          "output_type": "stream",
          "text": [
            "WARNING: You are using pip version 22.0.4; however, version 22.3.1 is available.\n",
            "You should consider upgrading via the 'C:\\Users\\laser\\AppData\\Local\\Microsoft\\WindowsApps\\PythonSoftwareFoundation.Python.3.9_qbz5n2kfra8p0\\python.exe -m pip install --upgrade pip' command.\n"
          ]
        },
        {
          "name": "stdout",
          "output_type": "stream",
          "text": [
            "Requirement already satisfied: shapely in c:\\users\\laser\\appdata\\local\\packages\\pythonsoftwarefoundation.python.3.9_qbz5n2kfra8p0\\localcache\\local-packages\\python39\\site-packages (1.8.5.post1)\n",
            "Note: you may need to restart the kernel to use updated packages.\n"
          ]
        },
        {
          "name": "stderr",
          "output_type": "stream",
          "text": [
            "WARNING: You are using pip version 22.0.4; however, version 22.3.1 is available.\n",
            "You should consider upgrading via the 'C:\\Users\\laser\\AppData\\Local\\Microsoft\\WindowsApps\\PythonSoftwareFoundation.Python.3.9_qbz5n2kfra8p0\\python.exe -m pip install --upgrade pip' command.\n"
          ]
        }
      ],
      "source": [
        "%pip install pandas\n",
        "%pip install geojson\n",
        "%pip install shapely\n",
        "%pip install PyShp\n",
        "%pip install shapely"
      ]
    },
    {
      "cell_type": "code",
      "execution_count": null,
      "id": "hourly-company",
      "metadata": {
        "id": "hourly-company"
      },
      "outputs": [],
      "source": [
        "import pandas as pd\n",
        "import shapefile as shp\n",
        "from shapely.geometry import Polygon,shape,MultiPolygon\n",
        "from shapely.ops import unary_union\n",
        "import time, math\n"
      ]
    },
    {
      "cell_type": "markdown",
      "id": "headed-venezuela",
      "metadata": {
        "tags": [],
        "id": "headed-venezuela"
      },
      "source": [
        "### Loading Base Map Precincts and Contiguity List"
      ]
    },
    {
      "cell_type": "code",
      "execution_count": null,
      "id": "received-minutes",
      "metadata": {
        "tags": [],
        "id": "received-minutes",
        "outputId": "e4af65d6-fc73-4209-b9f1-2a0f38fd692b"
      },
      "outputs": [
        {
          "name": "stdout",
          "output_type": "stream",
          "text": [
            "6754\n",
            "             District\n",
            "GEOID20              \n",
            "34033020001         3\n",
            "34033001501         3\n",
            "34033042009         3\n",
            "34033000703         3\n",
            "34033042001         3\n",
            "                                          Contiguous_Neighbors\n",
            "Precinct                                                      \n",
            "34033020001  [34033001501, 34033060E01, 34033020002, 340330...\n",
            "34033001501  [34033020001, 34033042009, 34033060E01, 340336...\n",
            "34033042009  [34033001501, 34033030001, 34033004204, 340330...\n",
            "34033000703  [34033042001, 34033007001, 34033030001, 340330...\n",
            "34033042001  [34033000703, 34033007001, 34033030001, 340330...\n"
          ]
        }
      ],
      "source": [
        "#assignment will contain the precinct-district assignments from the given base map\n",
        "assignment = pd.read_csv('map_export_data/precinct-assignments.csv', index_col=0)\n",
        "\n",
        "#precinct_list=[]\n",
        "#for p in range(0,len(assignment)):\n",
        "#    precinct_list.append(assignment.iloc[p].GEOID20)\n",
        "\n",
        "#contiguity_list will contain the list of contiguous precincts\n",
        "contiguity_list = pd.read_csv('Contiguity/Contiguity.csv', converters={1: pd.eval}, index_col=0)\n",
        "\n",
        "#pre_data contains data needed for decision-making\n",
        "pre_data = pd.read_csv('final_NJ_2020_State_Legislative_data.csv')\n",
        "\n",
        "\n",
        "#load shape data\n",
        "shpfile = 'nj_vtd_2020_bound/nj_vtd_2020_bound.shp'\n",
        "dbffile = 'nj_vtd_2020_bound/nj_vtd_2020_bound.dbf'\n",
        "shxfile = 'nj_vtd_2020_bound/nj_vtd_2020_bound.shx'\n",
        "shpfile = shp.Reader(shp=shpfile, shx=shxfile, dbf=dbffile)\n",
        "\n",
        "precinct_boundaries={}\n",
        "count=0\n",
        "for sr in shpfile.iterShapeRecords():\n",
        "    geom = sr.shape # get geo bit\n",
        "    rec = sr.record # get db fields\n",
        "    precinct_boundaries[rec[3]]=geom\n",
        "    count=count+1\n",
        "\n",
        "\n",
        "print(len(contiguity_list))\n",
        "print(assignment.head(5))\n",
        "print(contiguity_list.head(5))\n",
        "#print(assignment.District.loc['100'])\n",
        "\n"
      ]
    },
    {
      "cell_type": "markdown",
      "id": "simple-insertion",
      "metadata": {
        "id": "simple-insertion"
      },
      "source": [
        "###Create functions for retrieving population and precinct data"
      ]
    },
    {
      "cell_type": "code",
      "execution_count": null,
      "id": "787a0bb8",
      "metadata": {
        "id": "787a0bb8"
      },
      "outputs": [],
      "source": [
        "def population_district(district, assignment, pre_data):\n",
        "    population = 0\n",
        "    precincts = assignment.loc[assignment['District'] == district]\n",
        "    for precinct in precincts.iterrows():\n",
        "        if(pre_data.loc[pre_data.GEOID20==str(precinct[0]),'Total_2020_TotalAdj'].any()):\n",
        "            population += pre_data.loc[pre_data.GEOID20==str(precinct[0]),'Total_2020_TotalAdj'].values[0]\n",
        "    return population"
      ]
    },
    {
      "cell_type": "code",
      "execution_count": null,
      "id": "5fa4e39d",
      "metadata": {
        "id": "5fa4e39d"
      },
      "outputs": [],
      "source": [
        "def population_precinct(precinct, pre_data):\n",
        "    return pre_data.loc[pre_data.GEOID20==precinct,'Total_2020_TotalAdj'].values[0]"
      ]
    },
    {
      "cell_type": "code",
      "execution_count": null,
      "id": "2334beb5",
      "metadata": {
        "id": "2334beb5"
      },
      "outputs": [],
      "source": [
        "def partisan_lean_district(district, assignment, pre_data):\n",
        "    partisan_lean = 0\n",
        "    precincts = assignment.loc[assignment['District'] == district]\n",
        "    for precinct in precincts.iterrows():\n",
        "        if(pre_data.loc[pre_data.GEOID20==str(precinct[0]),'Dem_2016-2021_Comp'].any()):\n",
        "            partisan_lean += (pre_data.loc[pre_data.GEOID20==str(precinct[0]),'Dem_2016-2021_Comp'].values[0] \n",
        "                - pre_data.loc[pre_data.GEOID20==str(precinct[0]),'Rep_2016-2021_Comp'].values[0])\n",
        "    return partisan_lean"
      ]
    },
    {
      "cell_type": "code",
      "execution_count": null,
      "id": "2a199329",
      "metadata": {
        "id": "2a199329"
      },
      "outputs": [],
      "source": [
        "def partisan_lean_precinct(precinct, pre_data):\n",
        "    return (pre_data.loc[pre_data.GEOID20==precinct,'Dem_2016-2021_Comp'].values[0] \n",
        "        - pre_data.loc[pre_data.GEOID20==precinct,'Rep_2016-2021_Comp'].values[0])"
      ]
    },
    {
      "cell_type": "markdown",
      "id": "02027348",
      "metadata": {
        "id": "02027348"
      },
      "source": [
        "\n",
        "###Create data structures for districts (shape, population, partisanship, compactness)\n"
      ]
    },
    {
      "cell_type": "code",
      "execution_count": null,
      "id": "991c0be0",
      "metadata": {
        "id": "991c0be0"
      },
      "outputs": [],
      "source": [
        "def pp_compactness(geom): # Polsby-Popper\n",
        "    p = geom.length\n",
        "    a = geom.area    \n",
        "    return (4*math.pi*a)/(p*p)"
      ]
    },
    {
      "cell_type": "code",
      "execution_count": null,
      "id": "9cfc1736",
      "metadata": {
        "id": "9cfc1736"
      },
      "outputs": [],
      "source": [
        "def create_district_compactness(district_shapes):\n",
        "    district_compactness={}\n",
        "    for i in range(1,41):\n",
        "        district_compactness[i] = pp_compactness(district_shapes[i]);\n",
        "    return district_compactness"
      ]
    },
    {
      "cell_type": "code",
      "execution_count": null,
      "id": "d31db407",
      "metadata": {
        "id": "d31db407"
      },
      "outputs": [],
      "source": [
        "def create_district_populations(assignment, pre_data):\n",
        "    district_populations={}\n",
        "    for i in range(1,41):\n",
        "        district_populations[i] = population_district(i, assignment, pre_data)\n",
        "    return district_populations"
      ]
    },
    {
      "cell_type": "code",
      "execution_count": null,
      "id": "1ed63e40",
      "metadata": {
        "id": "1ed63e40"
      },
      "outputs": [],
      "source": [
        "def create_district_partisan_leans(assignment, pre_data):\n",
        "    district_partisan_leans={}\n",
        "    for i in range(1,41):\n",
        "        district_partisan_leans[i] = partisan_lean_district(i, assignment, pre_data)\n",
        "    return district_partisan_leans"
      ]
    },
    {
      "cell_type": "code",
      "execution_count": null,
      "id": "db8c47c2",
      "metadata": {
        "id": "db8c47c2"
      },
      "outputs": [],
      "source": [
        "def create_district_shapes(assignment, precinct_boundaries):\n",
        "    count = 0\n",
        "    district_shapes = {}\n",
        "    district_list = {}\n",
        "\n",
        "    for i in range(1,41):\n",
        "        district_list[i] = []\n",
        "    for p in assignment.index:\n",
        "        d = assignment.loc[p].iloc[0]\n",
        "        if (len(p) == 11):\n",
        "            try:\n",
        "                district_list[d].append(Polygon(shape(precinct_boundaries[p])))\n",
        "            except:\n",
        "                if (not p == '34003015016'):\n",
        "                    #exclude the broken precinct\n",
        "                    district_list[d].append(shape(precinct_boundaries[p]))\n",
        "                continue\n",
        "            count = count + 1\n",
        "    print(f\"Ok, got {count} precinct shapes from data file\")\n",
        "\n",
        "    for i in range(1,41):\n",
        "        district_shapes[i] = unary_union(district_list[i])\n",
        "\n",
        "    for i in range(1,41):\n",
        "        if (isinstance(district_shapes[i], MultiPolygon)):\n",
        "            print(\"ERROR, shape combination did not work\")\n",
        "            print(i)\n",
        "    return district_shapes"
      ]
    },
    {
      "cell_type": "markdown",
      "id": "helpful-scheme",
      "metadata": {
        "id": "helpful-scheme"
      },
      "source": [
        "### Logic for swapping two districts\n"
      ]
    },
    {
      "cell_type": "code",
      "execution_count": null,
      "id": "31dcaf3a",
      "metadata": {
        "id": "31dcaf3a"
      },
      "outputs": [],
      "source": [
        "def swap_district(p, district, assignment, district_shapes, district_populations, district_partisan_leans, district_compactness, precinct_boundaries):\n",
        "    \n",
        "    #get district of p\n",
        "    d = assignment.loc[p].iloc[0]\n",
        "    \n",
        "\n",
        "    ## Partisanship\n",
        "    part_p = partisan_lean_precinct(p, pre_data)\n",
        "\n",
        "    part_remove = district_partisan_leans[d]\n",
        "    part_add = district_partisan_leans[district]\n",
        "    \n",
        "    #calculate the absolute partisanship before and after making the swap\n",
        "    part_before = abs(part_remove) + abs(part_add)\n",
        "    part_after = abs(part_remove - part_p) + abs(part_add + part_p)\n",
        "\n",
        "    #if partisanship remains the same or increases don't swap\n",
        "    if (part_after >= part_before):\n",
        "        return False\n",
        "\n",
        "\n",
        "    ## Population\n",
        "    #compute population variance check\n",
        "    tolerance = 0.04\n",
        "    pop_p = population_precinct(p, pre_data)\n",
        "\n",
        "    pop_remove = district_populations[d] - pop_p\n",
        "    pop_add = district_populations[district] + pop_p\n",
        "\n",
        "    #if the variance is too high, break (saves computation)\n",
        "    if ((pop_remove < (232075*(1-tolerance))) or (pop_add > (232075*(1+tolerance)))):\n",
        "        return False\n",
        "\n",
        "\n",
        "\n",
        "    ## Contiguity / Polsby-Popper Compactness\n",
        "\n",
        "    #remove the precinct from one district and add it to another\n",
        "    shapeRemove = district_shapes[d].symmetric_difference(Polygon(shape(precinct_boundaries[p])))\n",
        "    shapeAdd = unary_union([district_shapes[district], Polygon(shape(precinct_boundaries[p]))])\n",
        "\n",
        "    #Ensure compactness stays reasonable\n",
        "    tolerance = 0.5\n",
        "    pp_before = district_compactness[d] + district_compactness[district]\n",
        "    pp_after = pp_compactness(shapeRemove) + pp_compactness(shapeAdd)\n",
        "\n",
        "    if(pp_before > pp_after + tolerance):\n",
        "        return False\n",
        "    \n",
        "    if (not isinstance(shapeRemove, MultiPolygon) and not isinstance(shapeAdd, MultiPolygon)):\n",
        "        #update shape data structure\n",
        "        district_shapes[d] = shapeRemove\n",
        "        district_shapes[district] = shapeAdd\n",
        "\n",
        "        #update population data structure\n",
        "        district_populations[d] = pop_remove\n",
        "        district_populations[district] = pop_add\n",
        "\n",
        "        #update partisan data structure\n",
        "        district_partisan_leans[d] = part_remove - part_p\n",
        "        district_partisan_leans[district] = part_add + part_p\n",
        "\n",
        "\n",
        "        #make the swap\n",
        "        assignment.loc[p].iloc[0] = district\n",
        "        return True\n",
        "    return False"
      ]
    },
    {
      "cell_type": "markdown",
      "source": [
        "### Reassignment code (with n iterations)\n"
      ],
      "metadata": {
        "id": "kPqEXTuAyWnI"
      },
      "id": "kPqEXTuAyWnI"
    },
    {
      "cell_type": "code",
      "execution_count": null,
      "id": "potential-importance",
      "metadata": {
        "id": "potential-importance"
      },
      "outputs": [],
      "source": [
        "def reassign_precincts(assignment, district_shapes, district_populations, district_partisan_leans, district_compactness, contiguity_list, precinct_boundaries, iterations):\n",
        "    #create set for visited \n",
        "    visited = set()\n",
        "\n",
        "    for i in range(iterations):\n",
        "        numAssignments = 0\n",
        "        potSwaps = 0\n",
        "        \n",
        "        for p in assignment.index:    \n",
        "            #if base point is visited previously, move on. Greatly reduces the number of matches in exchange for a most stable swap\n",
        "            if (p in visited):\n",
        "                #continue\n",
        "                pass\n",
        "\n",
        "            p_district = assignment.loc[p].iloc[0]\n",
        "            try:\n",
        "                neighbors = contiguity_list.loc[p].iloc[0]\n",
        "            except:\n",
        "                continue\n",
        "            for n in neighbors:\n",
        "                try:\n",
        "                    n_district = assignment.loc[n].iloc[0]\n",
        "                except:\n",
        "                    continue\n",
        "                if (n_district != p_district):# and (not (n in visited))):\n",
        "                    potSwaps = potSwaps + 1\n",
        "                    if (swap_district(n, p_district, assignment, district_shapes, district_populations, district_partisan_leans, district_compactness, precinct_boundaries)):\n",
        "                        numAssignments = numAssignments + 1\n",
        "                #mark this precinct as visited    \n",
        "                visited.add(n)\n",
        "\n",
        "\n",
        "\n",
        "        print(f\"iteration: {i} swap% = {numAssignments*100/potSwaps} swaps: {numAssignments} potentialswaps: {potSwaps}\")\n",
        "        \n",
        "        if (not numAssignments):\n",
        "            break\n",
        "\n",
        "        #write to intermediaries every 10 iterations to prevent against crashes\n",
        "        #algorithm is deterministic, so can pick up again after a crash\n",
        "        if ((i) % 10 == 0):\n",
        "            timestr = time.strftime(\"%Y%m%d-%H%M%S\")\n",
        "            print(f\"writing iteration {i} to intermediaries...\")\n",
        "            assignment.to_csv('intermediaries/' + timestr + '_assignment.csv')\n",
        "            print(f\"Done!\")\n",
        "        visited.clear()\n",
        "\n",
        "    #test for noncontiguous districts\n",
        "    for i in range(1,41):\n",
        "        if (isinstance(district_shapes[i], MultiPolygon)):\n",
        "            print(\"ERROR, shape combination did not work\")\n",
        "            print(i)\n",
        "    \n",
        "    #convert assignment to csv\n",
        "    print(f\"writing completed assignment to final/ ...\")\n",
        "    timestr = time.strftime(\"%Y%m%d-%H%M%S\")\n",
        "    assignment.to_csv('final/' + timestr + '_assignment.csv')\n"
      ]
    },
    {
      "cell_type": "markdown",
      "source": [
        "### After initializing above, run this script to generate the precinct assignments"
      ],
      "metadata": {
        "id": "VXiYeIXRycoW"
      },
      "id": "VXiYeIXRycoW"
    },
    {
      "cell_type": "code",
      "execution_count": null,
      "id": "55b40972",
      "metadata": {
        "id": "55b40972",
        "outputId": "b2821e7e-e8cd-42bc-9320-887917df0878"
      },
      "outputs": [
        {
          "name": "stdout",
          "output_type": "stream",
          "text": [
            "Loading base assignment...\n",
            "Done!\n",
            "Creating district shapes data structure...\n"
          ]
        },
        {
          "name": "stderr",
          "output_type": "stream",
          "text": [
            "C:\\Users\\laser\\AppData\\Local\\Packages\\PythonSoftwareFoundation.Python.3.9_qbz5n2kfra8p0\\LocalCache\\local-packages\\Python39\\site-packages\\shapely\\geometry\\polygon.py:539: ShapelyDeprecationWarning: __len__ for multi-part geometries is deprecated and will be removed in Shapely 2.0. Check the length of the `geoms` property instead to get the  number of parts of a multi-part geometry.\n",
            "  ret = geos_linearring_from_py(shell)\n",
            "C:\\Users\\laser\\AppData\\Local\\Packages\\PythonSoftwareFoundation.Python.3.9_qbz5n2kfra8p0\\LocalCache\\local-packages\\Python39\\site-packages\\shapely\\geometry\\polygon.py:539: ShapelyDeprecationWarning: __getitem__ for multi-part geometries is deprecated and will be removed in Shapely 2.0. Use the `geoms` property to access the constituent parts of a multi-part geometry.\n",
            "  ret = geos_linearring_from_py(shell)\n"
          ]
        },
        {
          "name": "stdout",
          "output_type": "stream",
          "text": [
            "Ok, got 6342 precinct shapes from data file\n",
            "Done!\n",
            "Creating district populations data structure...\n",
            "Done!\n",
            "Creating district partisan leans data structure...\n",
            "Done!\n",
            "Creating district compactness data structure...\n",
            "Done!\n",
            "Assigning precincts with n=20 iterations...\n",
            "iteration: 0 swap% = 4.541734860883797 swaps: 222 potentialswaps: 4888\n",
            "writing iteration 0 to intermediaries...\n",
            "Done!\n",
            "iteration: 1 swap% = 4.0673211781206176 swaps: 232 potentialswaps: 5704\n",
            "iteration: 2 swap% = 1.9056847545219637 swaps: 118 potentialswaps: 6192\n",
            "iteration: 3 swap% = 0.529925187032419 swaps: 34 potentialswaps: 6416\n",
            "iteration: 4 swap% = 0.339715873996294 swaps: 22 potentialswaps: 6476\n",
            "iteration: 5 swap% = 0.07687576875768758 swaps: 5 potentialswaps: 6504\n",
            "iteration: 6 swap% = 0.07678132678132678 swaps: 5 potentialswaps: 6512\n",
            "iteration: 7 swap% = 0.10705000764642912 swaps: 7 potentialswaps: 6539\n",
            "iteration: 8 swap% = 0.06093845216331505 swaps: 4 potentialswaps: 6564\n",
            "iteration: 9 swap% = 0.0453857791225416 swaps: 3 potentialswaps: 6610\n",
            "iteration: 10 swap% = 0.060459492140266025 swaps: 4 potentialswaps: 6616\n",
            "writing iteration 10 to intermediaries...\n",
            "Done!\n",
            "iteration: 11 swap% = 0.04527618472683369 swaps: 3 potentialswaps: 6626\n",
            "iteration: 12 swap% = 0.04517391959042313 swaps: 3 potentialswaps: 6641\n",
            "iteration: 13 swap% = 0.03011594639361542 swaps: 2 potentialswaps: 6641\n",
            "iteration: 14 swap% = 0.03009328919650918 swaps: 2 potentialswaps: 6646\n",
            "iteration: 15 swap% = 0.04506534474988734 swaps: 3 potentialswaps: 6657\n",
            "iteration: 16 swap% = 0.0 swaps: 0 potentialswaps: 6658\n",
            "writing completed assignment to final/ ...\n",
            "Done!\n"
          ]
        }
      ],
      "source": [
        "#number of iterations\n",
        "n = 20\n",
        "\n",
        "#if the program crashes, look at the latest intermediary in /intermediaries and load it as the base assignment\n",
        "print(f\"Loading base assignment...\")\n",
        "#assignment = pd.read_csv('map_export_data/precinct-assignments.csv', index_col=0)\n",
        "assignment = pd.read_csv('base/most_proportional.csv', index_col=0)\n",
        "print(f\"Done!\")\n",
        "\n",
        "print(f\"Creating district shapes data structure...\")\n",
        "district_shapes = create_district_shapes(assignment, precinct_boundaries)\n",
        "print(f\"Done!\")\n",
        "\n",
        "print(f\"Creating district populations data structure...\")\n",
        "district_populations = create_district_populations(assignment, pre_data)\n",
        "print(f\"Done!\")\n",
        "\n",
        "print(f\"Creating district partisan leans data structure...\")\n",
        "district_partisan_leans = create_district_partisan_leans(assignment, pre_data)\n",
        "print(f\"Done!\")\n",
        "\n",
        "print(f\"Creating district compactness data structure...\")\n",
        "district_compactness = create_district_compactness(district_shapes)\n",
        "print(f\"Done!\")\n",
        "\n",
        "print(f\"Assigning precincts with n={n} iterations...\")\n",
        "reassign_precincts(assignment, district_shapes, district_populations, district_partisan_leans, district_compactness, contiguity_list, precinct_boundaries, n)\n",
        "print(f\"Done!\")"
      ]
    }
  ],
  "metadata": {
    "kernelspec": {
      "display_name": "Python 3.9.13 64-bit (microsoft store)",
      "language": "python",
      "name": "python3"
    },
    "language_info": {
      "codemirror_mode": {
        "name": "ipython",
        "version": 3
      },
      "file_extension": ".py",
      "mimetype": "text/x-python",
      "name": "python",
      "nbconvert_exporter": "python",
      "pygments_lexer": "ipython3",
      "version": "3.9.13"
    },
    "vscode": {
      "interpreter": {
        "hash": "a75c5a00c188eb2b7d3835de361beed78f925d672732cf1715ee7bd9cf2fae44"
      }
    },
    "colab": {
      "provenance": [],
      "include_colab_link": true
    }
  },
  "nbformat": 4,
  "nbformat_minor": 5
}