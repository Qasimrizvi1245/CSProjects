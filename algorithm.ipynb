{
  "cells": [
    {
      "cell_type": "markdown",
      "metadata": {
        "id": "view-in-github",
        "colab_type": "text"
      },
      "source": [
        "<a href=\"https://colab.research.google.com/github/Qasimrizvi1245/CSProjects/blob/main/algorithm.ipynb\" target=\"_parent\"><img src=\"https://colab.research.google.com/assets/colab-badge.svg\" alt=\"Open In Colab\"/></a>"
      ]
    },
    {
      "cell_type": "markdown",
      "metadata": {
        "id": "RyanZfpAz09e"
      },
      "source": [
        "# Project Imports\n",
        "We used the `pandas` python library for aggregating and analyzing the student data. We're using the `csv` p"
      ]
    },
    {
      "cell_type": "code",
      "execution_count": null,
      "metadata": {
        "id": "s4MVH0MKz09h"
      },
      "outputs": [],
      "source": [
        "import pandas as pd\n",
        "import csv\n",
        "import random"
      ]
    },
    {
      "cell_type": "code",
      "source": [
        "roomdata = pd.read_csv(\"./Data/final_room_data.csv\")\n",
        "residences_table = pd.DataFrame(roomdata)\n",
        "\n",
        "filtered_residences_table = residences_table[['hall_id', 'hall_name', 'residence_type', 'building_id', 'room_number', 'room_id', 'floor_number', 'floor_plan', 'room_contract_type', 'has_accessibility_ramps', 'price']].copy()\n",
        "# filtered_residences_table.head(2)"
      ],
      "metadata": {
        "id": "01mQ1IoX0IkK",
        "outputId": "7ae2f0c9-9364-4ceb-a947-4ac7f5dbc1f1",
        "colab": {
          "base_uri": "https://localhost:8080/",
          "height": 399
        }
      },
      "execution_count": null,
      "outputs": [
        {
          "output_type": "error",
          "ename": "FileNotFoundError",
          "evalue": "ignored",
          "traceback": [
            "\u001b[0;31m---------------------------------------------------------------------------\u001b[0m",
            "\u001b[0;31mFileNotFoundError\u001b[0m                         Traceback (most recent call last)",
            "\u001b[0;32m<ipython-input-2-714e0169f236>\u001b[0m in \u001b[0;36m<module>\u001b[0;34m\u001b[0m\n\u001b[0;32m----> 1\u001b[0;31m \u001b[0mroomdata\u001b[0m \u001b[0;34m=\u001b[0m \u001b[0mpd\u001b[0m\u001b[0;34m.\u001b[0m\u001b[0mread_csv\u001b[0m\u001b[0;34m(\u001b[0m\u001b[0;34m\"./Data/final_room_data.csv\"\u001b[0m\u001b[0;34m)\u001b[0m\u001b[0;34m\u001b[0m\u001b[0;34m\u001b[0m\u001b[0m\n\u001b[0m\u001b[1;32m      2\u001b[0m \u001b[0mresidences_table\u001b[0m \u001b[0;34m=\u001b[0m \u001b[0mpd\u001b[0m\u001b[0;34m.\u001b[0m\u001b[0mDataFrame\u001b[0m\u001b[0;34m(\u001b[0m\u001b[0mroomdata\u001b[0m\u001b[0;34m)\u001b[0m\u001b[0;34m\u001b[0m\u001b[0;34m\u001b[0m\u001b[0m\n\u001b[1;32m      3\u001b[0m \u001b[0;34m\u001b[0m\u001b[0m\n\u001b[1;32m      4\u001b[0m \u001b[0mfiltered_residences_table\u001b[0m \u001b[0;34m=\u001b[0m \u001b[0mresidences_table\u001b[0m\u001b[0;34m[\u001b[0m\u001b[0;34m[\u001b[0m\u001b[0;34m'hall_id'\u001b[0m\u001b[0;34m,\u001b[0m \u001b[0;34m'hall_name'\u001b[0m\u001b[0;34m,\u001b[0m \u001b[0;34m'residence_type'\u001b[0m\u001b[0;34m,\u001b[0m \u001b[0;34m'building_id'\u001b[0m\u001b[0;34m,\u001b[0m \u001b[0;34m'room_number'\u001b[0m\u001b[0;34m,\u001b[0m \u001b[0;34m'room_id'\u001b[0m\u001b[0;34m,\u001b[0m \u001b[0;34m'floor_number'\u001b[0m\u001b[0;34m,\u001b[0m \u001b[0;34m'floor_plan'\u001b[0m\u001b[0;34m,\u001b[0m \u001b[0;34m'room_contract_type'\u001b[0m\u001b[0;34m,\u001b[0m \u001b[0;34m'has_accessibility_ramps'\u001b[0m\u001b[0;34m,\u001b[0m \u001b[0;34m'price'\u001b[0m\u001b[0;34m]\u001b[0m\u001b[0;34m]\u001b[0m\u001b[0;34m.\u001b[0m\u001b[0mcopy\u001b[0m\u001b[0;34m(\u001b[0m\u001b[0;34m)\u001b[0m\u001b[0;34m\u001b[0m\u001b[0;34m\u001b[0m\u001b[0m\n\u001b[1;32m      5\u001b[0m \u001b[0;31m# filtered_residences_table.head(2)\u001b[0m\u001b[0;34m\u001b[0m\u001b[0;34m\u001b[0m\u001b[0;34m\u001b[0m\u001b[0m\n",
            "\u001b[0;32m/usr/local/lib/python3.7/dist-packages/pandas/util/_decorators.py\u001b[0m in \u001b[0;36mwrapper\u001b[0;34m(*args, **kwargs)\u001b[0m\n\u001b[1;32m    309\u001b[0m                     \u001b[0mstacklevel\u001b[0m\u001b[0;34m=\u001b[0m\u001b[0mstacklevel\u001b[0m\u001b[0;34m,\u001b[0m\u001b[0;34m\u001b[0m\u001b[0;34m\u001b[0m\u001b[0m\n\u001b[1;32m    310\u001b[0m                 )\n\u001b[0;32m--> 311\u001b[0;31m             \u001b[0;32mreturn\u001b[0m \u001b[0mfunc\u001b[0m\u001b[0;34m(\u001b[0m\u001b[0;34m*\u001b[0m\u001b[0margs\u001b[0m\u001b[0;34m,\u001b[0m \u001b[0;34m**\u001b[0m\u001b[0mkwargs\u001b[0m\u001b[0;34m)\u001b[0m\u001b[0;34m\u001b[0m\u001b[0;34m\u001b[0m\u001b[0m\n\u001b[0m\u001b[1;32m    312\u001b[0m \u001b[0;34m\u001b[0m\u001b[0m\n\u001b[1;32m    313\u001b[0m         \u001b[0;32mreturn\u001b[0m \u001b[0mwrapper\u001b[0m\u001b[0;34m\u001b[0m\u001b[0;34m\u001b[0m\u001b[0m\n",
            "\u001b[0;32m/usr/local/lib/python3.7/dist-packages/pandas/io/parsers/readers.py\u001b[0m in \u001b[0;36mread_csv\u001b[0;34m(filepath_or_buffer, sep, delimiter, header, names, index_col, usecols, squeeze, prefix, mangle_dupe_cols, dtype, engine, converters, true_values, false_values, skipinitialspace, skiprows, skipfooter, nrows, na_values, keep_default_na, na_filter, verbose, skip_blank_lines, parse_dates, infer_datetime_format, keep_date_col, date_parser, dayfirst, cache_dates, iterator, chunksize, compression, thousands, decimal, lineterminator, quotechar, quoting, doublequote, escapechar, comment, encoding, encoding_errors, dialect, error_bad_lines, warn_bad_lines, on_bad_lines, delim_whitespace, low_memory, memory_map, float_precision, storage_options)\u001b[0m\n\u001b[1;32m    584\u001b[0m     \u001b[0mkwds\u001b[0m\u001b[0;34m.\u001b[0m\u001b[0mupdate\u001b[0m\u001b[0;34m(\u001b[0m\u001b[0mkwds_defaults\u001b[0m\u001b[0;34m)\u001b[0m\u001b[0;34m\u001b[0m\u001b[0;34m\u001b[0m\u001b[0m\n\u001b[1;32m    585\u001b[0m \u001b[0;34m\u001b[0m\u001b[0m\n\u001b[0;32m--> 586\u001b[0;31m     \u001b[0;32mreturn\u001b[0m \u001b[0m_read\u001b[0m\u001b[0;34m(\u001b[0m\u001b[0mfilepath_or_buffer\u001b[0m\u001b[0;34m,\u001b[0m \u001b[0mkwds\u001b[0m\u001b[0;34m)\u001b[0m\u001b[0;34m\u001b[0m\u001b[0;34m\u001b[0m\u001b[0m\n\u001b[0m\u001b[1;32m    587\u001b[0m \u001b[0;34m\u001b[0m\u001b[0m\n\u001b[1;32m    588\u001b[0m \u001b[0;34m\u001b[0m\u001b[0m\n",
            "\u001b[0;32m/usr/local/lib/python3.7/dist-packages/pandas/io/parsers/readers.py\u001b[0m in \u001b[0;36m_read\u001b[0;34m(filepath_or_buffer, kwds)\u001b[0m\n\u001b[1;32m    480\u001b[0m \u001b[0;34m\u001b[0m\u001b[0m\n\u001b[1;32m    481\u001b[0m     \u001b[0;31m# Create the parser.\u001b[0m\u001b[0;34m\u001b[0m\u001b[0;34m\u001b[0m\u001b[0;34m\u001b[0m\u001b[0m\n\u001b[0;32m--> 482\u001b[0;31m     \u001b[0mparser\u001b[0m \u001b[0;34m=\u001b[0m \u001b[0mTextFileReader\u001b[0m\u001b[0;34m(\u001b[0m\u001b[0mfilepath_or_buffer\u001b[0m\u001b[0;34m,\u001b[0m \u001b[0;34m**\u001b[0m\u001b[0mkwds\u001b[0m\u001b[0;34m)\u001b[0m\u001b[0;34m\u001b[0m\u001b[0;34m\u001b[0m\u001b[0m\n\u001b[0m\u001b[1;32m    483\u001b[0m \u001b[0;34m\u001b[0m\u001b[0m\n\u001b[1;32m    484\u001b[0m     \u001b[0;32mif\u001b[0m \u001b[0mchunksize\u001b[0m \u001b[0;32mor\u001b[0m \u001b[0miterator\u001b[0m\u001b[0;34m:\u001b[0m\u001b[0;34m\u001b[0m\u001b[0;34m\u001b[0m\u001b[0m\n",
            "\u001b[0;32m/usr/local/lib/python3.7/dist-packages/pandas/io/parsers/readers.py\u001b[0m in \u001b[0;36m__init__\u001b[0;34m(self, f, engine, **kwds)\u001b[0m\n\u001b[1;32m    809\u001b[0m             \u001b[0mself\u001b[0m\u001b[0;34m.\u001b[0m\u001b[0moptions\u001b[0m\u001b[0;34m[\u001b[0m\u001b[0;34m\"has_index_names\"\u001b[0m\u001b[0;34m]\u001b[0m \u001b[0;34m=\u001b[0m \u001b[0mkwds\u001b[0m\u001b[0;34m[\u001b[0m\u001b[0;34m\"has_index_names\"\u001b[0m\u001b[0;34m]\u001b[0m\u001b[0;34m\u001b[0m\u001b[0;34m\u001b[0m\u001b[0m\n\u001b[1;32m    810\u001b[0m \u001b[0;34m\u001b[0m\u001b[0m\n\u001b[0;32m--> 811\u001b[0;31m         \u001b[0mself\u001b[0m\u001b[0;34m.\u001b[0m\u001b[0m_engine\u001b[0m \u001b[0;34m=\u001b[0m \u001b[0mself\u001b[0m\u001b[0;34m.\u001b[0m\u001b[0m_make_engine\u001b[0m\u001b[0;34m(\u001b[0m\u001b[0mself\u001b[0m\u001b[0;34m.\u001b[0m\u001b[0mengine\u001b[0m\u001b[0;34m)\u001b[0m\u001b[0;34m\u001b[0m\u001b[0;34m\u001b[0m\u001b[0m\n\u001b[0m\u001b[1;32m    812\u001b[0m \u001b[0;34m\u001b[0m\u001b[0m\n\u001b[1;32m    813\u001b[0m     \u001b[0;32mdef\u001b[0m \u001b[0mclose\u001b[0m\u001b[0;34m(\u001b[0m\u001b[0mself\u001b[0m\u001b[0;34m)\u001b[0m\u001b[0;34m:\u001b[0m\u001b[0;34m\u001b[0m\u001b[0;34m\u001b[0m\u001b[0m\n",
            "\u001b[0;32m/usr/local/lib/python3.7/dist-packages/pandas/io/parsers/readers.py\u001b[0m in \u001b[0;36m_make_engine\u001b[0;34m(self, engine)\u001b[0m\n\u001b[1;32m   1038\u001b[0m             )\n\u001b[1;32m   1039\u001b[0m         \u001b[0;31m# error: Too many arguments for \"ParserBase\"\u001b[0m\u001b[0;34m\u001b[0m\u001b[0;34m\u001b[0m\u001b[0;34m\u001b[0m\u001b[0m\n\u001b[0;32m-> 1040\u001b[0;31m         \u001b[0;32mreturn\u001b[0m \u001b[0mmapping\u001b[0m\u001b[0;34m[\u001b[0m\u001b[0mengine\u001b[0m\u001b[0;34m]\u001b[0m\u001b[0;34m(\u001b[0m\u001b[0mself\u001b[0m\u001b[0;34m.\u001b[0m\u001b[0mf\u001b[0m\u001b[0;34m,\u001b[0m \u001b[0;34m**\u001b[0m\u001b[0mself\u001b[0m\u001b[0;34m.\u001b[0m\u001b[0moptions\u001b[0m\u001b[0;34m)\u001b[0m  \u001b[0;31m# type: ignore[call-arg]\u001b[0m\u001b[0;34m\u001b[0m\u001b[0;34m\u001b[0m\u001b[0m\n\u001b[0m\u001b[1;32m   1041\u001b[0m \u001b[0;34m\u001b[0m\u001b[0m\n\u001b[1;32m   1042\u001b[0m     \u001b[0;32mdef\u001b[0m \u001b[0m_failover_to_python\u001b[0m\u001b[0;34m(\u001b[0m\u001b[0mself\u001b[0m\u001b[0;34m)\u001b[0m\u001b[0;34m:\u001b[0m\u001b[0;34m\u001b[0m\u001b[0;34m\u001b[0m\u001b[0m\n",
            "\u001b[0;32m/usr/local/lib/python3.7/dist-packages/pandas/io/parsers/c_parser_wrapper.py\u001b[0m in \u001b[0;36m__init__\u001b[0;34m(self, src, **kwds)\u001b[0m\n\u001b[1;32m     49\u001b[0m \u001b[0;34m\u001b[0m\u001b[0m\n\u001b[1;32m     50\u001b[0m         \u001b[0;31m# open handles\u001b[0m\u001b[0;34m\u001b[0m\u001b[0;34m\u001b[0m\u001b[0;34m\u001b[0m\u001b[0m\n\u001b[0;32m---> 51\u001b[0;31m         \u001b[0mself\u001b[0m\u001b[0;34m.\u001b[0m\u001b[0m_open_handles\u001b[0m\u001b[0;34m(\u001b[0m\u001b[0msrc\u001b[0m\u001b[0;34m,\u001b[0m \u001b[0mkwds\u001b[0m\u001b[0;34m)\u001b[0m\u001b[0;34m\u001b[0m\u001b[0;34m\u001b[0m\u001b[0m\n\u001b[0m\u001b[1;32m     52\u001b[0m         \u001b[0;32massert\u001b[0m \u001b[0mself\u001b[0m\u001b[0;34m.\u001b[0m\u001b[0mhandles\u001b[0m \u001b[0;32mis\u001b[0m \u001b[0;32mnot\u001b[0m \u001b[0;32mNone\u001b[0m\u001b[0;34m\u001b[0m\u001b[0;34m\u001b[0m\u001b[0m\n\u001b[1;32m     53\u001b[0m \u001b[0;34m\u001b[0m\u001b[0m\n",
            "\u001b[0;32m/usr/local/lib/python3.7/dist-packages/pandas/io/parsers/base_parser.py\u001b[0m in \u001b[0;36m_open_handles\u001b[0;34m(self, src, kwds)\u001b[0m\n\u001b[1;32m    227\u001b[0m             \u001b[0mmemory_map\u001b[0m\u001b[0;34m=\u001b[0m\u001b[0mkwds\u001b[0m\u001b[0;34m.\u001b[0m\u001b[0mget\u001b[0m\u001b[0;34m(\u001b[0m\u001b[0;34m\"memory_map\"\u001b[0m\u001b[0;34m,\u001b[0m \u001b[0;32mFalse\u001b[0m\u001b[0;34m)\u001b[0m\u001b[0;34m,\u001b[0m\u001b[0;34m\u001b[0m\u001b[0;34m\u001b[0m\u001b[0m\n\u001b[1;32m    228\u001b[0m             \u001b[0mstorage_options\u001b[0m\u001b[0;34m=\u001b[0m\u001b[0mkwds\u001b[0m\u001b[0;34m.\u001b[0m\u001b[0mget\u001b[0m\u001b[0;34m(\u001b[0m\u001b[0;34m\"storage_options\"\u001b[0m\u001b[0;34m,\u001b[0m \u001b[0;32mNone\u001b[0m\u001b[0;34m)\u001b[0m\u001b[0;34m,\u001b[0m\u001b[0;34m\u001b[0m\u001b[0;34m\u001b[0m\u001b[0m\n\u001b[0;32m--> 229\u001b[0;31m             \u001b[0merrors\u001b[0m\u001b[0;34m=\u001b[0m\u001b[0mkwds\u001b[0m\u001b[0;34m.\u001b[0m\u001b[0mget\u001b[0m\u001b[0;34m(\u001b[0m\u001b[0;34m\"encoding_errors\"\u001b[0m\u001b[0;34m,\u001b[0m \u001b[0;34m\"strict\"\u001b[0m\u001b[0;34m)\u001b[0m\u001b[0;34m,\u001b[0m\u001b[0;34m\u001b[0m\u001b[0;34m\u001b[0m\u001b[0m\n\u001b[0m\u001b[1;32m    230\u001b[0m         )\n\u001b[1;32m    231\u001b[0m \u001b[0;34m\u001b[0m\u001b[0m\n",
            "\u001b[0;32m/usr/local/lib/python3.7/dist-packages/pandas/io/common.py\u001b[0m in \u001b[0;36mget_handle\u001b[0;34m(path_or_buf, mode, encoding, compression, memory_map, is_text, errors, storage_options)\u001b[0m\n\u001b[1;32m    705\u001b[0m                 \u001b[0mencoding\u001b[0m\u001b[0;34m=\u001b[0m\u001b[0mioargs\u001b[0m\u001b[0;34m.\u001b[0m\u001b[0mencoding\u001b[0m\u001b[0;34m,\u001b[0m\u001b[0;34m\u001b[0m\u001b[0;34m\u001b[0m\u001b[0m\n\u001b[1;32m    706\u001b[0m                 \u001b[0merrors\u001b[0m\u001b[0;34m=\u001b[0m\u001b[0merrors\u001b[0m\u001b[0;34m,\u001b[0m\u001b[0;34m\u001b[0m\u001b[0;34m\u001b[0m\u001b[0m\n\u001b[0;32m--> 707\u001b[0;31m                 \u001b[0mnewline\u001b[0m\u001b[0;34m=\u001b[0m\u001b[0;34m\"\"\u001b[0m\u001b[0;34m,\u001b[0m\u001b[0;34m\u001b[0m\u001b[0;34m\u001b[0m\u001b[0m\n\u001b[0m\u001b[1;32m    708\u001b[0m             )\n\u001b[1;32m    709\u001b[0m         \u001b[0;32melse\u001b[0m\u001b[0;34m:\u001b[0m\u001b[0;34m\u001b[0m\u001b[0;34m\u001b[0m\u001b[0m\n",
            "\u001b[0;31mFileNotFoundError\u001b[0m: [Errno 2] No such file or directory: './Data/final_room_data.csv'"
          ]
        }
      ]
    },
    {
      "cell_type": "code",
      "source": [
        "sA_df = pd.read_csv(\"./Data/datasetA_with_roommate_pref.csv\")\n",
        "students = pd.DataFrame(sA_df)\n",
        "filtered_all_students = students[['name', 'sex', 'RUID', 'student_year', 'accessibility_need', 'low_income_status', 'preferred_residence_type','preferred_hall_ids', 'preferred_price_range', 'max_price']].copy()\n",
        "print(len(filtered_all_students))"
      ],
      "metadata": {
        "id": "i9y_Bg4v0LYc"
      },
      "execution_count": null,
      "outputs": []
    },
    {
      "cell_type": "code",
      "source": [
        "# Traditional Residence Halls\n",
        "trad_reshall_table = filtered_residences_table[filtered_residences_table['residence_type'].str.contains('Traditional Residence Hall')]\n",
        "# trad_reshall_table.head(2)\n",
        "\n",
        "# Apartments\n",
        "apts_table = filtered_residences_table[filtered_residences_table['residence_type'].str.contains('Apartment')]\n",
        "\n",
        "# Suites\n",
        "suites_table = filtered_residences_table[filtered_residences_table['residence_type'].str.contains('Suite')]\n",
        "\n",
        "# All Rooms - Singles\n",
        "singles_table = filtered_residences_table[filtered_residences_table['floor_plan'].str.contains('Traditional Single')]\n",
        "\n",
        "# All Rooms - Doubles\n",
        "doubles_table = filtered_residences_table[filtered_residences_table['floor_plan'].str.contains('Traditional Double')]\n",
        "\n",
        "# Graduate Housing\n",
        "undergrad_table = filtered_residences_table.loc[filtered_residences_table['room_contract_type'] == \"Undergraduate Academic Year (Two Semesters)\"]\n",
        "\n",
        "print(len(filtered_residences_table))"
      ],
      "metadata": {
        "id": "UXidQ50f0vbT"
      },
      "execution_count": null,
      "outputs": []
    },
    {
      "cell_type": "code",
      "source": [
        "# move undergrad disability and low income people to new table\n",
        "undergrad_disability_lowincome_students = pd.DataFrame()\n",
        "grad_disability_lowincome_students = pd.DataFrame()\n",
        "accessibility_students = pd.DataFrame()\n",
        "low_income_students = pd.DataFrame()\n",
        "undergrad_students = pd.DataFrame()\n",
        "grad_students = pd.DataFrame()\n",
        "\n",
        "for index, row in filtered_all_students.iterrows():\n",
        "  #(CASE 1)\n",
        "  if (row['student_year'] == \"Freshman\" or row['student_year'] == \"Sophomore\" or row['student_year'] == \"Junior\" or row['student_year'] == \"Senior\") and row['accessibility_need'] == 1 and row['low_income_status'] == 1:\n",
        "    undergrad_disability_lowincome_students = undergrad_disability_lowincome_students.append(row)\n",
        "  #(CASE 2)\n",
        "  elif row['accessibility_need'] == 1 and row['low_income_status'] == 1:\n",
        "    grad_disability_lowincome_students = grad_disability_lowincome_students.append(row)\n",
        "  #(CASE 3)\n",
        "  elif row['accessibility_need'] == 1:\n",
        "    accessibility_students = accessibility_students.append(row)\n",
        "  #(CASE 4) \n",
        "  elif row['low_income_status'] == 1:\n",
        "    low_income_students = low_income_students.append(row)\n",
        "  #(CASE 5)\n",
        "  elif (row['student_year'] == \"Freshman\" or row['student_year'] == \"Sophomore\" or row['student_year'] == \"Junior\" or row['student_year'] == \"Senior\"):\n",
        "    undergrad_students = undergrad_students.append(row)\n",
        "  #(CASE 6)\n",
        "  else: #Graduate\n",
        "    grad_students = grad_students.append(row)\n",
        "\n",
        "print(len(undergrad_disability_lowincome_students) + len(grad_disability_lowincome_students) + len(accessibility_students) + len(low_income_students) + len(undergrad_students) + len(grad_students))\n",
        "\n",
        "# print(undergrad_disability_lowincome_students.head())\n",
        "# print(grad_disability_lowincome_students.head())\n",
        "# print(accessibility_students.head())\n",
        "# print(low_income_students.head())\n",
        "# print(undergrad_students.head())\n",
        "# print(grad_students.head())"
      ],
      "metadata": {
        "id": "8b_d9kkj1Gl5"
      },
      "execution_count": null,
      "outputs": []
    },
    {
      "cell_type": "code",
      "source": [
        "# row = grad_disability_lowincome_students.sample()\n",
        "# print(row['RUID'])\n",
        "\n",
        "# sa = filtered_residences_table.sample()\n",
        "# print(sa['price'])\n",
        "\n",
        "# print(row['max_price'])\n",
        "# print(len(filtered_residences_table.loc[float(row['max_price']) > filtered_residences_table['price'] ]) > 0)"
      ],
      "metadata": {
        "id": "D9s2-QqJp86K"
      },
      "execution_count": null,
      "outputs": []
    },
    {
      "cell_type": "code",
      "source": [
        "assigned_students = pd.DataFrame()\n",
        "\n",
        "while len(filtered_residences_table) != 0 or len(filtered_all_students) != 0:\n",
        "  # go through undergrad_disability_lowincome_students\n",
        "  while len(undergrad_disability_lowincome_students) != 0: #change to while loop with sampling\n",
        "    row = undergrad_disability_lowincome_students.sample()\n",
        "    \n",
        "    if len(filtered_residences_table.loc[(filtered_residences_table['has_accessibility_ramps']) == 1 & (float(row['max_price']) > filtered_residences_table['price'])]) > 0:\n",
        "      dis_lowinc_rooms = filtered_residences_table.loc[(filtered_residences_table['has_accessibility_ramps']) == 1 & (float(row['max_price']) > filtered_residences_table['price'])]\n",
        "      assigned_room = dis_lowinc_rooms.head(1)\n",
        "      # print(assigned_room['room_id'])\n",
        "      tempdf = pd.DataFrame({'RUID': int(row['RUID']),\n",
        "                            'hall_id': assigned_room['hall_id'],\n",
        "                            'building_id': assigned_room['building_id'],\n",
        "                            'room_id': assigned_room['room_id']})\n",
        "      assigned_students = assigned_students.append(tempdf, ignore_index=True)\n",
        "      # Dropping from tables\n",
        "      undergrad_disability_lowincome_students = undergrad_disability_lowincome_students[undergrad_disability_lowincome_students['RUID'] != float(row['RUID'])]\n",
        "      filtered_all_students = filtered_all_students[filtered_all_students['RUID'] != float(row['RUID'])]\n",
        "      filtered_residences_table = filtered_residences_table[~(filtered_residences_table['room_id'].isin(assigned_room['room_id']) & filtered_residences_table['hall_id'].isin(assigned_room['hall_id']) & filtered_residences_table['building_id'].isin(assigned_room['building_id']))]\n",
        "    else: #Get regular room\n",
        "      assigned_room = filtered_residences_table.head(1)\n",
        "      # print(assigned_room['room_id'])\n",
        "      tempdf = pd.DataFrame({'RUID': int(row['RUID']),\n",
        "                            'hall_id': assigned_room['hall_id'],\n",
        "                            'building_id': assigned_room['building_id'],\n",
        "                            'room_id': assigned_room['room_id']})\n",
        "      assigned_students = assigned_students.append(tempdf, ignore_index=True)\n",
        "      # Dropping from tables\n",
        "      undergrad_disability_lowincome_students = undergrad_disability_lowincome_students[undergrad_disability_lowincome_students['RUID'] != float(row['RUID'])]\n",
        "      filtered_all_students = filtered_all_students[filtered_all_students['RUID'] != float(row['RUID'])]\n",
        "      filtered_residences_table = filtered_residences_table[~(filtered_residences_table['room_id'].isin(assigned_room['room_id']) & filtered_residences_table['hall_id'].isin(assigned_room['hall_id']) & filtered_residences_table['building_id'].isin(assigned_room['building_id']))]\n",
        "\n",
        "\n",
        "  \n",
        "  # Go through grad disability and low income\n",
        "  while len(grad_disability_lowincome_students) != 0:\n",
        "    row = grad_disability_lowincome_students.sample()\n",
        "    if len(filtered_residences_table.loc[(filtered_residences_table['has_accessibility_ramps']) == 1 & (float(row['max_price']) > filtered_residences_table['price'])]) > 0:\n",
        "      dis_lowinc_rooms = filtered_residences_table.loc[(filtered_residences_table['has_accessibility_ramps']) == 1 & (float(row['max_price']) > filtered_residences_table['price'])]\n",
        "      assigned_room = dis_lowinc_rooms.head(1)\n",
        "      # print(assigned_room['room_id'])\n",
        "      tempdf = pd.DataFrame({'RUID': int(row['RUID']),\n",
        "                            'hall_id': assigned_room['hall_id'],\n",
        "                            'building_id': assigned_room['building_id'],\n",
        "                            'room_id': assigned_room['room_id']})\n",
        "      assigned_students = assigned_students.append(tempdf, ignore_index=True)\n",
        "      # Dropping from tables\n",
        "      grad_disability_lowincome_students = grad_disability_lowincome_students[grad_disability_lowincome_students['RUID'] != float(row['RUID'])]\n",
        "      filtered_all_students = filtered_all_students[filtered_all_students['RUID'] != float(row['RUID'])]\n",
        "      filtered_residences_table = filtered_residences_table[~(filtered_residences_table['room_id'].isin(assigned_room['room_id']) & filtered_residences_table['hall_id'].isin(assigned_room['hall_id']) & filtered_residences_table['building_id'].isin(assigned_room['building_id']))]\n",
        "    else: #Get regular room\n",
        "      assigned_room = filtered_residences_table.head(1)\n",
        "      # print(assigned_room['room_id'])\n",
        "      tempdf = pd.DataFrame({'RUID': int(row['RUID']),\n",
        "                            'hall_id': assigned_room['hall_id'],\n",
        "                            'building_id': assigned_room['building_id'],\n",
        "                            'room_id': assigned_room['room_id']})\n",
        "      assigned_students = assigned_students.append(tempdf, ignore_index=True)\n",
        "      # Dropping from tables\n",
        "      grad_disability_lowincome_students = grad_disability_lowincome_students[grad_disability_lowincome_students['RUID'] != float(row['RUID'])]\n",
        "      filtered_all_students = filtered_all_students[filtered_all_students['RUID'] != float(row['RUID'])]\n",
        "      filtered_residences_table = filtered_residences_table[~(filtered_residences_table['room_id'].isin(assigned_room['room_id']) & filtered_residences_table['hall_id'].isin(assigned_room['hall_id']) & filtered_residences_table['building_id'].isin(assigned_room['building_id']))]\n",
        "    \n",
        "\n",
        "  # Go through accessibility\n",
        "  while len(accessibility_students) != 0:\n",
        "    row = accessibility_students.sample()\n",
        "    if len(filtered_residences_table.loc[(filtered_residences_table['has_accessibility_ramps']) == 1 & (float(row['max_price']) > filtered_residences_table['price'])]) > 0:\n",
        "      dis_lowinc_rooms = filtered_residences_table.loc[(filtered_residences_table['has_accessibility_ramps']) == 1 & (float(row['max_price']) > filtered_residences_table['price'])]\n",
        "      assigned_room = dis_lowinc_rooms.head(1)\n",
        "      # print(assigned_room['room_id'])\n",
        "      tempdf = pd.DataFrame({'RUID': int(row['RUID']),\n",
        "                            'hall_id': assigned_room['hall_id'],\n",
        "                            'building_id': assigned_room['building_id'],\n",
        "                            'room_id': assigned_room['room_id']})\n",
        "      assigned_students = assigned_students.append(tempdf, ignore_index=True)\n",
        "      # Dropping from tables\n",
        "      accessibility_students = accessibility_students[accessibility_students['RUID'] != float(row['RUID'])]\n",
        "      filtered_all_students = filtered_all_students[filtered_all_students['RUID'] != float(row['RUID'])]\n",
        "      filtered_residences_table = filtered_residences_table[~(filtered_residences_table['room_id'].isin(assigned_room['room_id']) & filtered_residences_table['hall_id'].isin(assigned_room['hall_id']) & filtered_residences_table['building_id'].isin(assigned_room['building_id']))]\n",
        "    else: #Get regular room\n",
        "      assigned_room = filtered_residences_table.head(1)\n",
        "      # print(assigned_room['room_id'])\n",
        "      tempdf = pd.DataFrame({'RUID': int(row['RUID']),\n",
        "                            'hall_id': assigned_room['hall_id'],\n",
        "                            'building_id': assigned_room['building_id'],\n",
        "                            'room_id': assigned_room['room_id']})\n",
        "      assigned_students = assigned_students.append(tempdf, ignore_index=True)\n",
        "      # Dropping from tables\n",
        "      accessibility_students = accessibility_students[accessibility_students['RUID'] != float(row['RUID'])]\n",
        "      filtered_all_students = filtered_all_students[filtered_all_students['RUID'] != float(row['RUID'])]\n",
        "      filtered_residences_table = filtered_residences_table[~(filtered_residences_table['room_id'].isin(assigned_room['room_id']) & filtered_residences_table['hall_id'].isin(assigned_room['hall_id']) & filtered_residences_table['building_id'].isin(assigned_room['building_id']))]\n",
        "\n",
        "  # Go through low income\n",
        "  while len(low_income_students) != 0:\n",
        "    row = low_income_students.sample()\n",
        "    if len(filtered_residences_table.loc[(float(row['max_price']) > filtered_residences_table['price'])]) > 0:\n",
        "      dis_lowinc_rooms = filtered_residences_table.loc[(float(row['max_price']) > filtered_residences_table['price'])]\n",
        "      assigned_room = dis_lowinc_rooms.head(1)\n",
        "      # print(assigned_room['room_id'])\n",
        "      tempdf = pd.DataFrame({'RUID': int(row['RUID']),\n",
        "                            'hall_id': assigned_room['hall_id'],\n",
        "                            'building_id': assigned_room['building_id'],\n",
        "                            'room_id': assigned_room['room_id']})\n",
        "      assigned_students = assigned_students.append(tempdf, ignore_index=True)\n",
        "      # Dropping from tables\n",
        "      low_income_students = low_income_students[low_income_students['RUID'] != float(row['RUID'])]\n",
        "      filtered_all_students = filtered_all_students[filtered_all_students['RUID'] != float(row['RUID'])]\n",
        "      filtered_residences_table = filtered_residences_table[~(filtered_residences_table['room_id'].isin(assigned_room['room_id']) & filtered_residences_table['hall_id'].isin(assigned_room['hall_id']) & filtered_residences_table['building_id'].isin(assigned_room['building_id']))]\n",
        "    else: #Get regular room\n",
        "      assigned_room = filtered_residences_table.head(1)\n",
        "      # print(assigned_room['room_id'])\n",
        "      tempdf = pd.DataFrame({'RUID': int(row['RUID']),\n",
        "                            'hall_id': assigned_room['hall_id'],\n",
        "                            'building_id': assigned_room['building_id'],\n",
        "                            'room_id': assigned_room['room_id']})\n",
        "      assigned_students = assigned_students.append(tempdf, ignore_index=True)\n",
        "      # Dropping from tables\n",
        "      low_income_students = low_income_students[low_income_students['RUID'] != float(row['RUID'])]\n",
        "      filtered_all_students = filtered_all_students[filtered_all_students['RUID'] != float(row['RUID'])]\n",
        "      filtered_residences_table = filtered_residences_table[~(filtered_residences_table['room_id'].isin(assigned_room['room_id']) & filtered_residences_table['hall_id'].isin(assigned_room['hall_id']) & filtered_residences_table['building_id'].isin(assigned_room['building_id']))]\n",
        "\n",
        "  # Go through undergrad\n",
        "  while len(undergrad_students) != 0:\n",
        "    row = undergrad_students.sample()\n",
        "    if len(filtered_residences_table.loc[(float(row['max_price']) > filtered_residences_table['price'])]) > 0:\n",
        "      dis_lowinc_rooms = filtered_residences_table.loc[(float(row['max_price']) > filtered_residences_table['price'])]\n",
        "      assigned_room = dis_lowinc_rooms.head(1)\n",
        "      # print(assigned_room['room_id'])\n",
        "      tempdf = pd.DataFrame({'RUID': int(row['RUID']),\n",
        "                            'hall_id': assigned_room['hall_id'],\n",
        "                            'building_id': assigned_room['building_id'],\n",
        "                            'room_id': assigned_room['room_id']})\n",
        "      assigned_students = assigned_students.append(tempdf, ignore_index=True)\n",
        "      # Dropping from tables\n",
        "      undergrad_students = undergrad_students[undergrad_students['RUID'] != float(row['RUID'])]\n",
        "      filtered_all_students = filtered_all_students[filtered_all_students['RUID'] != float(row['RUID'])]\n",
        "      filtered_residences_table = filtered_residences_table[~(filtered_residences_table['room_id'].isin(assigned_room['room_id']) & filtered_residences_table['hall_id'].isin(assigned_room['hall_id']) & filtered_residences_table['building_id'].isin(assigned_room['building_id']))]\n",
        "    else: #Get regular room\n",
        "      assigned_room = filtered_residences_table.head(1)\n",
        "      # print(assigned_room['room_id'])\n",
        "      tempdf = pd.DataFrame({'RUID': int(row['RUID']),\n",
        "                            'hall_id': assigned_room['hall_id'],\n",
        "                            'building_id': assigned_room['building_id'],\n",
        "                            'room_id': assigned_room['room_id']})\n",
        "      assigned_students = assigned_students.append(tempdf, ignore_index=True)\n",
        "      # Dropping from tables\n",
        "      undergrad_students = undergrad_students[undergrad_students['RUID'] != float(row['RUID'])]\n",
        "      filtered_all_students = filtered_all_students[filtered_all_students['RUID'] != float(row['RUID'])]\n",
        "      filtered_residences_table = filtered_residences_table[~(filtered_residences_table['room_id'].isin(assigned_room['room_id']) & filtered_residences_table['hall_id'].isin(assigned_room['hall_id']) & filtered_residences_table['building_id'].isin(assigned_room['building_id']))]\n",
        "\n",
        "  # Go through grad\n",
        "  while len(grad_students) != 0:\n",
        "    row = grad_students.sample()\n",
        "    if len(filtered_residences_table.loc[(float(row['max_price']) > filtered_residences_table['price'])]) > 0:\n",
        "      dis_lowinc_rooms = filtered_residences_table.loc[(float(row['max_price']) > filtered_residences_table['price'])]\n",
        "      assigned_room = dis_lowinc_rooms.head(1)\n",
        "      # print(assigned_room['room_id'])\n",
        "      tempdf = pd.DataFrame({'RUID': int(row['RUID']),\n",
        "                            'hall_id': assigned_room['hall_id'],\n",
        "                            'building_id': assigned_room['building_id'],\n",
        "                            'room_id': assigned_room['room_id']})\n",
        "      assigned_students = assigned_students.append(tempdf, ignore_index=True)\n",
        "      # Dropping from tables\n",
        "      grad_students = grad_students[grad_students['RUID'] != float(row['RUID'])]\n",
        "      filtered_all_students = filtered_all_students[filtered_all_students['RUID'] != float(row['RUID'])]\n",
        "      filtered_residences_table = filtered_residences_table[~(filtered_residences_table['room_id'].isin(assigned_room['room_id']) & filtered_residences_table['hall_id'].isin(assigned_room['hall_id']) & filtered_residences_table['building_id'].isin(assigned_room['building_id']))]\n",
        "    else: #Get regular room\n",
        "      assigned_room = filtered_residences_table.head(1)\n",
        "      # print(assigned_room['room_id'])\n",
        "      tempdf = pd.DataFrame({'RUID': int(row['RUID']),\n",
        "                            'hall_id': assigned_room['hall_id'],\n",
        "                            'building_id': assigned_room['building_id'],\n",
        "                            'room_id': assigned_room['room_id']})\n",
        "      assigned_students = assigned_students.append(tempdf, ignore_index=True)\n",
        "      # Dropping from tables\n",
        "      grad_students = grad_students[grad_students['RUID'] != float(row['RUID'])]\n",
        "      filtered_all_students = filtered_all_students[filtered_all_students['RUID'] != float(row['RUID'])]\n",
        "      filtered_residences_table = filtered_residences_table[~(filtered_residences_table['room_id'].isin(assigned_room['room_id']) & filtered_residences_table['hall_id'].isin(assigned_room['hall_id']) & filtered_residences_table['building_id'].isin(assigned_room['building_id']))]\n",
        "\n",
        "print(len(filtered_all_students))\n",
        "print(len(filtered_residences_table))"
      ],
      "metadata": {
        "id": "hSKSormA8oru"
      },
      "execution_count": null,
      "outputs": []
    },
    {
      "cell_type": "code",
      "source": [
        "# Print to csv\n",
        "\n",
        "assigned_students.to_csv(\"assigned_students.csv\", index=False)"
      ],
      "metadata": {
        "id": "5ZGKffSfNWPL"
      },
      "execution_count": null,
      "outputs": []
    }
  ],
  "metadata": {
    "kernelspec": {
      "display_name": "Python 3.9.0 64-bit",
      "language": "python",
      "name": "python3"
    },
    "language_info": {
      "name": "python",
      "version": "3.9.0"
    },
    "orig_nbformat": 4,
    "vscode": {
      "interpreter": {
        "hash": "aee8b7b246df8f9039afb4144a1f6fd8d2ca17a180786b69acc140d282b71a49"
      }
    },
    "colab": {
      "provenance": [],
      "include_colab_link": true
    }
  },
  "nbformat": 4,
  "nbformat_minor": 0
}